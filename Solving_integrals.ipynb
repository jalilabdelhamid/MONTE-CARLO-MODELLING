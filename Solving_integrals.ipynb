{
  "nbformat": 4,
  "nbformat_minor": 0,
  "metadata": {
    "colab": {
      "provenance": [],
      "authorship_tag": "ABX9TyPtGSycOQXV4KF04YKBRsEH",
      "include_colab_link": true
    },
    "kernelspec": {
      "name": "python3",
      "display_name": "Python 3"
    },
    "language_info": {
      "name": "python"
    }
  },
  "cells": [
    {
      "cell_type": "markdown",
      "metadata": {
        "id": "view-in-github",
        "colab_type": "text"
      },
      "source": [
        "<a href=\"https://colab.research.google.com/github/jalilabdelhamid/MONTE-CARLO-MODELLING/blob/main/Solving_integrals.ipynb\" target=\"_parent\"><img src=\"https://colab.research.google.com/assets/colab-badge.svg\" alt=\"Open In Colab\"/></a>"
      ]
    },
    {
      "cell_type": "markdown",
      "source": [
        "# **Example 1:**"
      ],
      "metadata": {
        "id": "yapeFkBdlWKw"
      }
    },
    {
      "cell_type": "code",
      "execution_count": null,
      "metadata": {
        "id": "a9sBUHXglLFo"
      },
      "outputs": [],
      "source": [
        "#define limit [a,b]\n",
        "a = 1\n",
        "b = 2\n",
        "#define function f(x)=?\n",
        "y = 3 * x\n"
      ]
    }
  ]
}