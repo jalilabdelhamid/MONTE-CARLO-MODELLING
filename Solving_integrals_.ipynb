{
  "nbformat": 4,
  "nbformat_minor": 0,
  "metadata": {
    "colab": {
      "provenance": [],
      "authorship_tag": "ABX9TyOvpaqOvzxSacV1ZY+wmH2c",
      "include_colab_link": true
    },
    "kernelspec": {
      "name": "python3",
      "display_name": "Python 3"
    },
    "language_info": {
      "name": "python"
    }
  },
  "cells": [
    {
      "cell_type": "markdown",
      "metadata": {
        "id": "view-in-github",
        "colab_type": "text"
      },
      "source": [
        "<a href=\"https://colab.research.google.com/github/jalilabdelhamid/MONTE-CARLO-MODELLING/blob/main/Solving_integrals_.ipynb\" target=\"_parent\"><img src=\"https://colab.research.google.com/assets/colab-badge.svg\" alt=\"Open In Colab\"/></a>"
      ]
    },
    {
      "cell_type": "markdown",
      "source": [
        "# **Calculate Integral based on Example 1 (Handbook1 page:45)**"
      ],
      "metadata": {
        "id": "yapeFkBdlWKw"
      }
    },
    {
      "cell_type": "code",
      "source": [
        "#define limit [a,b]\n",
        "a = 1\n",
        "b = 2\n",
        "\n",
        "#define function f(x)=?\n",
        "x=0\n",
        "y = 3*x**2 + 5\n",
        "\n",
        "\n",
        "#define numbre of sample N\n",
        "N = 1000000"
      ],
      "metadata": {
        "id": "vNYtrJeJBeHw"
      },
      "execution_count": 27,
      "outputs": []
    },
    {
      "cell_type": "code",
      "execution_count": 28,
      "metadata": {
        "colab": {
          "base_uri": "https://localhost:8080/"
        },
        "id": "a9sBUHXglLFo",
        "outputId": "43ea22e0-842d-4c9d-9acf-f201c47da3f5"
      },
      "outputs": [
        {
          "output_type": "stream",
          "name": "stdout",
          "text": [
            "11.999978499600665\n"
          ]
        }
      ],
      "source": [
        "#define delta en function of N\n",
        "delta = (b-a)/N\n",
        "x_i = a\n",
        "Y = 0\n",
        "for i in range(1,N):\n",
        "  Y = Y + 3*x_i**2 + 5\n",
        "  x_i = x_i + delta\n",
        "\n",
        "I_ = ((b-a)/N) * Y\n",
        "\n",
        "print(I_)"
      ]
    },
    {
      "cell_type": "markdown",
      "source": [
        "# **Calculate Integral based on Example 2 (Handbook1 page:46)**"
      ],
      "metadata": {
        "id": "HTjib7L3AtEw"
      }
    },
    {
      "cell_type": "code",
      "source": [
        "import numpy as np \n",
        "#define R\n",
        "R = np.sqrt(a**2 + b**2)\n",
        "\n",
        "\n",
        "#define range of R\n",
        "r_min = 0\n",
        "r_max = R\n",
        "\n",
        "delta = (r_max-r_min)/N\n",
        "Y_2 = 0\n",
        "r_i = 0\n",
        "for i in range(1,N):\n",
        "  Y_2 = Y_2 + 3*r_i**2 + 5\n",
        "  r_i = r_i + delta\n",
        "\n",
        "I_2 =  Y/(N)\n",
        "\n",
        "print(I_2)"
      ],
      "metadata": {
        "id": "ashlUuadAnrE",
        "colab": {
          "base_uri": "https://localhost:8080/"
        },
        "outputId": "816dd62a-bb1b-41f7-a36d-301ac65fd46b"
      },
      "execution_count": 29,
      "outputs": [
        {
          "output_type": "stream",
          "name": "stdout",
          "text": [
            "11.999978499600665\n"
          ]
        }
      ]
    },
    {
      "cell_type": "markdown",
      "source": [
        "Integration (scipy.integrate)\n",
        "# https://docs.scipy.org/doc/scipy/tutorial/integrate.html# "
      ],
      "metadata": {
        "id": "fcpiHaYO-8Uo"
      }
    },
    {
      "cell_type": "code",
      "source": [
        "from scipy.integrate import quad\n",
        "def integrand(x, c, d):\n",
        "  return c*x**2 + d\n",
        "\n",
        "c = 3\n",
        "d = 5\n",
        "I = I = quad(integrand, a, b, args=(c,d))\n",
        "print(I)"
      ],
      "metadata": {
        "colab": {
          "base_uri": "https://localhost:8080/"
        },
        "id": "QZPg3bdJ5kS0",
        "outputId": "12b6ddef-f0a8-417e-e58b-927a99413124"
      },
      "execution_count": 30,
      "outputs": [
        {
          "output_type": "stream",
          "name": "stdout",
          "text": [
            "(12.0, 1.3322676295501878e-13)\n"
          ]
        }
      ]
    },
    {
      "cell_type": "code",
      "source": [
        "print(f\"Difference Between scipy.integrate & Example1 with {N} samples=\", I[0]-I_)\n",
        "print(f\"Difference Between scipy.integrate & Example2 with {N} samples=\", I[0]-I_2)\n"
      ],
      "metadata": {
        "colab": {
          "base_uri": "https://localhost:8080/"
        },
        "id": "p6RK0YHm6Qyh",
        "outputId": "ba06d606-0279-4321-de31-b645aac6afa9"
      },
      "execution_count": 31,
      "outputs": [
        {
          "output_type": "stream",
          "name": "stdout",
          "text": [
            "Difference Between scipy.integrate & Example1 with 1000000 samples= 2.150039933468406e-05\n",
            "Difference Between scipy.integrate & Example2 with 1000000 samples= 2.150039933468406e-05\n"
          ]
        }
      ]
    }
  ]
}