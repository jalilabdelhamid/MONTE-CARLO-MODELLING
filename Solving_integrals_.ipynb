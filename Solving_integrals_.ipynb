{
  "nbformat": 4,
  "nbformat_minor": 0,
  "metadata": {
    "colab": {
      "provenance": [],
      "authorship_tag": "ABX9TyOCmrtpnajB8pRr8RK44H8H",
      "include_colab_link": true
    },
    "kernelspec": {
      "name": "python3",
      "display_name": "Python 3"
    },
    "language_info": {
      "name": "python"
    }
  },
  "cells": [
    {
      "cell_type": "markdown",
      "metadata": {
        "id": "view-in-github",
        "colab_type": "text"
      },
      "source": [
        "<a href=\"https://colab.research.google.com/github/jalilabdelhamid/MONTE-CARLO-MODELLING/blob/main/Solving_integrals_.ipynb\" target=\"_parent\"><img src=\"https://colab.research.google.com/assets/colab-badge.svg\" alt=\"Open In Colab\"/></a>"
      ]
    },
    {
      "cell_type": "markdown",
      "source": [
        "# **Calculate Integral based on Example 1 (Handbook1 page:45)**"
      ],
      "metadata": {
        "id": "yapeFkBdlWKw"
      }
    },
    {
      "cell_type": "code",
      "source": [
        "import numpy as np \n",
        "#define limit [a,b]\n",
        "a = 1\n",
        "b = 2\n",
        "\n",
        "#define function f(x)=?\n",
        "x=0\n",
        "y = 3*x**2 + 5\n",
        "\n",
        "\n",
        "#define numbre of sample N\n",
        "N = 1000000"
      ],
      "metadata": {
        "id": "vNYtrJeJBeHw"
      },
      "execution_count": 48,
      "outputs": []
    },
    {
      "cell_type": "code",
      "execution_count": 49,
      "metadata": {
        "colab": {
          "base_uri": "https://localhost:8080/"
        },
        "id": "a9sBUHXglLFo",
        "outputId": "85818e88-a73a-4709-e505-0a359867d006"
      },
      "outputs": [
        {
          "output_type": "stream",
          "name": "stdout",
          "text": [
            "11.999978499600665\n"
          ]
        }
      ],
      "source": [
        "#define delta en function of N\n",
        "delta = (b-a)/N\n",
        "x_i = a\n",
        "Y = 0\n",
        "for i in range(1,N):\n",
        "  Y = Y + 3*x_i**2 + 5\n",
        "  x_i = x_i + delta\n",
        "\n",
        "I_ = ((b-a)/N) * Y\n",
        "\n",
        "print(I_)"
      ]
    },
    {
      "cell_type": "markdown",
      "source": [
        "# **variance**"
      ],
      "metadata": {
        "id": "j0RpXsU7JtAm"
      }
    },
    {
      "cell_type": "code",
      "source": [
        "\n",
        "#reinitialization \n",
        "x_i = a\n",
        "Y_pow = 0\n",
        "for i in range(1,N):\n",
        "  Y_pow = Y_pow + (3*x_i**2 + 5)**2\n",
        "  x_i = x_i + delta\n",
        "\n",
        "sigma = (1/np.sqrt(N)) * np.sqrt(Y_pow/N - (Y/N)**2)\n",
        "\n",
        "\n",
        "\n",
        "print(f\"the integral value of Example1 = {I_} with variance = {sigma}\")"
      ],
      "metadata": {
        "id": "sYzIfArfJ10u",
        "outputId": "0f4dd993-12df-4801-cd62-28b7bd6b8377",
        "colab": {
          "base_uri": "https://localhost:8080/"
        }
      },
      "execution_count": 50,
      "outputs": [
        {
          "output_type": "stream",
          "name": "stdout",
          "text": [
            "the integral value of Example1 = 11.999978499600665 with variance = 0.0026077029160119464\n"
          ]
        }
      ]
    },
    {
      "cell_type": "markdown",
      "source": [
        "# **Calculate Integral based on Example 2 (Handbook1 page:46)**"
      ],
      "metadata": {
        "id": "HTjib7L3AtEw"
      }
    },
    {
      "cell_type": "code",
      "source": [
        "#define R\n",
        "R=1\n",
        "\n",
        "\n",
        "#define range of R\n",
        "r_min = 0\n",
        "r_max = R\n",
        "\n",
        "delta_2 = (r_max-r_min)/N\n",
        "Y_2 = 0\n",
        "r_i = 0\n",
        "for i in range(1,N):\n",
        "  Y_2 = Y_2 + (3*r_i**2 + 5)\n",
        "  r_i = r_i + delta_2\n",
        "\n",
        "I_2 = ((np.pi * (R**2) * Y_2)/N) \n",
        "\n",
        "print(I_2)"
      ],
      "metadata": {
        "id": "ashlUuadAnrE",
        "colab": {
          "base_uri": "https://localhost:8080/"
        },
        "outputId": "443706b5-135a-4b42-aa20-bd48b6a7c16c"
      },
      "execution_count": 88,
      "outputs": [
        {
          "output_type": "stream",
          "name": "stdout",
          "text": [
            "18.84952607643443\n"
          ]
        }
      ]
    },
    {
      "cell_type": "markdown",
      "source": [
        "Integration (scipy.integrate)\n",
        "# https://docs.scipy.org/doc/scipy/tutorial/integrate.html# "
      ],
      "metadata": {
        "id": "fcpiHaYO-8Uo"
      }
    },
    {
      "cell_type": "code",
      "source": [
        "from scipy.integrate import quad\n",
        "def integrand(x, c, d):\n",
        "  return c*x**2 + d\n",
        "\n",
        "c = 3\n",
        "d = 5\n",
        "I = I = quad(integrand, a, b, args=(c,d))\n",
        "print(I)"
      ],
      "metadata": {
        "colab": {
          "base_uri": "https://localhost:8080/"
        },
        "id": "QZPg3bdJ5kS0",
        "outputId": "8d288bf2-1cbc-45d3-f889-111dc281358a"
      },
      "execution_count": 53,
      "outputs": [
        {
          "output_type": "stream",
          "name": "stdout",
          "text": [
            "(12.0, 1.3322676295501878e-13)\n"
          ]
        }
      ]
    },
    {
      "cell_type": "code",
      "source": [
        "print(f\"Difference Between scipy.integrate & Method Example1 with {N} samples=\", I[0]-I_)\n",
        "print(f\"Difference Between scipy.integrate & Method Example2 with {N} samples=\", I[0]-I_2)\n"
      ],
      "metadata": {
        "colab": {
          "base_uri": "https://localhost:8080/"
        },
        "id": "p6RK0YHm6Qyh",
        "outputId": "9a229554-2233-4d3f-a4ed-f60ad6aae7c6"
      },
      "execution_count": 54,
      "outputs": [
        {
          "output_type": "stream",
          "name": "stdout",
          "text": [
            "Difference Between scipy.integrate & Example1 with 1000000 samples= 2.150039933468406e-05\n",
            "Difference Between scipy.integrate & Example2 with 1000000 samples= -58.81223927069232\n"
          ]
        }
      ]
    }
  ]
}