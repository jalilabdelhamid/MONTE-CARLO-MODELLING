{
  "nbformat": 4,
  "nbformat_minor": 0,
  "metadata": {
    "colab": {
      "provenance": [],
      "authorship_tag": "ABX9TyNcgpJcUqeZSlYHJeLN39W+",
      "include_colab_link": true
    },
    "kernelspec": {
      "name": "python3",
      "display_name": "Python 3"
    },
    "language_info": {
      "name": "python"
    }
  },
  "cells": [
    {
      "cell_type": "markdown",
      "metadata": {
        "id": "view-in-github",
        "colab_type": "text"
      },
      "source": [
        "<a href=\"https://colab.research.google.com/github/jalilabdelhamid/MONTE-CARLO-MODELLING/blob/main/Solving_integrals_.ipynb\" target=\"_parent\"><img src=\"https://colab.research.google.com/assets/colab-badge.svg\" alt=\"Open In Colab\"/></a>"
      ]
    },
    {
      "cell_type": "markdown",
      "source": [
        "# **Calculate Integral based on Example 1 (Handbook1 page:45)**"
      ],
      "metadata": {
        "id": "yapeFkBdlWKw"
      }
    },
    {
      "cell_type": "code",
      "execution_count": 52,
      "metadata": {
        "colab": {
          "base_uri": "https://localhost:8080/"
        },
        "id": "a9sBUHXglLFo",
        "outputId": "3f9c3b24-ceda-49db-df2c-f00731526315"
      },
      "outputs": [
        {
          "output_type": "stream",
          "name": "stdout",
          "text": [
            "11.999978499600665\n"
          ]
        }
      ],
      "source": [
        "#define limit [a,b]\n",
        "a = 1\n",
        "b = 2\n",
        "\n",
        "#define function f(x)=?\n",
        "x=0\n",
        "y = 3*x**2 + 5\n",
        "Y = 0\n",
        "\n",
        "#define numbre of sample N\n",
        "N = 1000000\n",
        "\n",
        "#define delta en function of N\n",
        "delta = (b-a)/N\n",
        "x_i = a\n",
        "for i in range(1,N):\n",
        "  Y = Y + 3*x_i**2 + 5\n",
        "  x_i = x_i + delta\n",
        "\n",
        "I_ = ((b-a)/N) * Y\n",
        "\n",
        "print(I_)"
      ]
    },
    {
      "cell_type": "markdown",
      "source": [],
      "metadata": {
        "id": "1tg7FSOmAoeo"
      }
    },
    {
      "cell_type": "markdown",
      "source": [
        "# **Calculate Integral based on Example 2 (Handbook1 page:46)**"
      ],
      "metadata": {
        "id": "HTjib7L3AtEw"
      }
    },
    {
      "cell_type": "code",
      "source": [],
      "metadata": {
        "id": "ashlUuadAnrE"
      },
      "execution_count": null,
      "outputs": []
    },
    {
      "cell_type": "markdown",
      "source": [
        "Integration (scipy.integrate)\n",
        "# https://docs.scipy.org/doc/scipy/tutorial/integrate.html# "
      ],
      "metadata": {
        "id": "fcpiHaYO-8Uo"
      }
    },
    {
      "cell_type": "code",
      "source": [
        "from scipy.integrate import quad\n",
        "def integrand(x, c, d):\n",
        "  return c*x**2 + d\n",
        "\n",
        "c = 3\n",
        "d = 5\n",
        "I = I = quad(integrand, a, b, args=(c,d))\n",
        "print(I)"
      ],
      "metadata": {
        "colab": {
          "base_uri": "https://localhost:8080/"
        },
        "id": "QZPg3bdJ5kS0",
        "outputId": "c16c35c6-0dd8-48f8-98cc-450188a52caa"
      },
      "execution_count": 53,
      "outputs": [
        {
          "output_type": "stream",
          "name": "stdout",
          "text": [
            "(12.0, 1.3322676295501878e-13)\n"
          ]
        }
      ]
    },
    {
      "cell_type": "code",
      "source": [
        "diff = I[0]-I_\n",
        "print(diff)"
      ],
      "metadata": {
        "colab": {
          "base_uri": "https://localhost:8080/"
        },
        "id": "p6RK0YHm6Qyh",
        "outputId": "36e45d0a-2864-4549-f7c2-20308742d7a2"
      },
      "execution_count": 54,
      "outputs": [
        {
          "output_type": "stream",
          "name": "stdout",
          "text": [
            "2.150039933468406e-05\n"
          ]
        }
      ]
    }
  ]
}